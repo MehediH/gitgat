{
  "nbformat": 4,
  "nbformat_minor": 0,
  "metadata": {
    "colab": {
      "name": "ai-cw.ipynb",
      "provenance": [],
      "collapsed_sections": [],
      "authorship_tag": "ABX9TyMeNQQsanA2ycRtBHdlmkAx",
      "include_colab_link": true
    },
    "kernelspec": {
      "name": "python3",
      "display_name": "Python 3"
    }
  },
  "cells": [
    {
      "cell_type": "markdown",
      "metadata": {
        "id": "view-in-github",
        "colab_type": "text"
      },
      "source": [
        "<a href=\"https://colab.research.google.com/github/MehediH/gitgat/blob/master/ai_cw.ipynb\" target=\"_parent\"><img src=\"https://colab.research.google.com/assets/colab-badge.svg\" alt=\"Open In Colab\"/></a>"
      ]
    },
    {
      "cell_type": "code",
      "metadata": {
        "id": "eKMEVN0BaXuo"
      },
      "source": [
        "import torch\r\n",
        "from torch import nn\r\n",
        "from torch.utils import data\r\n",
        "import matplotlib.pyplot as plt\r\n",
        "import numpy as np\r\n"
      ],
      "execution_count": 2,
      "outputs": []
    },
    {
      "cell_type": "markdown",
      "metadata": {
        "id": "MHHVXbpIalnA"
      },
      "source": [
        "# Creating the training dataset and dataloader"
      ]
    },
    {
      "cell_type": "code",
      "metadata": {
        "id": "9UQJW8qaaq7A"
      },
      "source": [
        "Nf = 2000 # the number of different functions f that we will generate\r\n",
        "Npts = 40 # the number of x values that we will use to generate each fa\r\n",
        "x = torch.zeros(Nf, Npts, 1)\r\n",
        "for k in range(Nf):\r\n",
        "    x[k,:,0] = torch.linspace(-2, 2, Npts)\r\n",
        "\r\n",
        "x += torch.rand_like(x)*0.1\r\n",
        "a = -2 + 4*torch.rand(Nf).view(-1,1).repeat(1, Npts).unsqueeze(2)\r\n",
        "\r\n",
        "y = a * torch.sin(x+a) #  y= f_a(x) = a ∗ sin(x + a)\r\n",
        "\r\n",
        "dataset = data.TensorDataset(x, y)\r\n",
        "data_iter = data.DataLoader(dataset, batch_size=128)\r\n",
        "# data_iterator = iter(data_iter)"
      ],
      "execution_count": 3,
      "outputs": []
    },
    {
      "cell_type": "code",
      "metadata": {
        "colab": {
          "base_uri": "https://localhost:8080/",
          "height": 283
        },
        "id": "biYEKCPxcSk8",
        "outputId": "58e2d52a-a21e-4100-cb2c-bfaf74704520"
      },
      "source": [
        "plt.plot(x[0,:], y[0,:])\r\n",
        "plt.plot(x[1,:], y[1,:])\r\n",
        "plt.plot(x[2,:], y[2,:])\r\n",
        "plt.plot(x[3,:], y[3,:])"
      ],
      "execution_count": 4,
      "outputs": [
        {
          "output_type": "execute_result",
          "data": {
            "text/plain": [
              "[<matplotlib.lines.Line2D at 0x7effa2305310>]"
            ]
          },
          "metadata": {
            "tags": []
          },
          "execution_count": 4
        },
        {
          "output_type": "display_data",
          "data": {
            "image/png": "[encoded data removed]",
            "text/plain": [
              "<Figure size 432x288 with 1 Axes>"
            ]
          },
          "metadata": {
            "tags": [],
            "needs_background": "light"
          }
        }
      ]
    },
    {
      "cell_type": "markdown",
      "metadata": {
        "id": "MrBntabDpfcJ"
      },
      "source": [
        "# Creating the Encoder and Decoder"
      ]
    },
    {
      "cell_type": "code",
      "metadata": {
        "id": "_dKpzRXbfrH1"
      },
      "source": [
        "class Encoder(torch.nn.Module):\r\n",
        "    def __init__(self, num_inputs, num_hidden, num_outputs):\r\n",
        "        super(Encoder, self).__init__()\r\n",
        "\r\n",
        "        self.num_inputs = num_inputs\r\n",
        "        self.num_hidden = num_hidden\r\n",
        "        self.num_outputs = num_outputs\r\n",
        "\r\n",
        "        self.Linear1 = nn.Linear(num_inputs, num_hidden)\r\n",
        "        self.ReLU = nn.PReLU()\r\n",
        "        self.Linear2 = nn.Linear(num_hidden, num_outputs)\r\n",
        "\r\n",
        "    def forward(self, x):\r\n",
        "        out = self.Linear1(x)\r\n",
        "        out = self.ReLU(out)\r\n",
        "        out = self.Linear2(out)\r\n",
        "\r\n",
        "        return out "
      ],
      "execution_count": 5,
      "outputs": []
    },
    {
      "cell_type": "code",
      "metadata": {
        "id": "On6-UJIB8l3l"
      },
      "source": [
        "class Decoder(torch.nn.Module):\r\n",
        "    def __init__(self, num_inputs, num_hidden, num_outputs):\r\n",
        "        super(Decoder, self).__init__()\r\n",
        "\r\n",
        "        self.num_inputs = num_inputs\r\n",
        "        self.num_hidden = num_hidden\r\n",
        "        self.num_outputs = num_outputs\r\n",
        "\r\n",
        "        self.Linear1 = nn.Linear(num_inputs, num_hidden)\r\n",
        "        self.ReLU = nn.PReLU()\r\n",
        "        self.Linear2 = nn.Linear(num_hidden, num_outputs)\r\n",
        "\r\n",
        "    def forward(self, x):\r\n",
        "        out = self.Linear1(x)\r\n",
        "        out = self.ReLU(out)\r\n",
        "        out = self.Linear2(out)\r\n",
        "\r\n",
        "        return out "
      ],
      "execution_count": 6,
      "outputs": []
    },
    {
      "cell_type": "code",
      "metadata": {
        "id": "CzQDUDgaHFaT"
      },
      "source": [
        "class EncoderDecoder(torch.nn.Module):\r\n",
        "    def __init__(self, h_dim, r_dim):\r\n",
        "        super(EncoderDecoder, self).__init__()\r\n",
        "\r\n",
        "        self.h_dim = h_dim\r\n",
        "        self.r_dim = r_dim\r\n",
        "\r\n",
        "        self.encoder = Encoder(num_inputs=2, num_hidden=h_dim, num_outputs=r_dim)\r\n",
        "        self.decoder = Decoder(num_inputs=r_dim+1, num_hidden=h_dim, num_outputs=1)\r\n",
        "\r\n",
        "    def forward(self, x):\r\n",
        "        encoderOutput = self.encoder(x)\r\n",
        "\r\n",
        "        # compute average of the individual rC values\r\n",
        "        rC = torch.mean(encoderOutput, dim=1)\r\n",
        "\r\n",
        "        # combine rC values with Xt \r\n",
        "        rC = rC.unsqueeze(1).repeat(1, Npts, 1)\r\n",
        "        Xt_with_rc = torch.cat([rC, X], dim=2)\r\n",
        "\r\n",
        "        decoderOutput = self.decoder(Xt_with_rc)\r\n",
        "\r\n",
        "        return decoderOutput "
      ],
      "execution_count": 35,
      "outputs": []
    },
    {
      "cell_type": "code",
      "metadata": {
        "colab": {
          "base_uri": "https://localhost:8080/"
        },
        "id": "aFVcaIrWLaq0",
        "outputId": "8db351a6-7341-409e-a563-f78382efeade"
      },
      "source": [
        "r_dim = 2\r\n",
        "h_dim = 5\r\n",
        "\r\n",
        "def init_weights(m):\r\n",
        "    if type(m) == nn.Linear: # by checking type we can init different layers in different ways\r\n",
        "        torch.nn.init.kaiming_normal_(m.weight)\r\n",
        "\r\n",
        "net = EncoderDecoder(h_dim, r_dim)\r\n",
        "net.apply(init_weights)"
      ],
      "execution_count": 40,
      "outputs": [
        {
          "output_type": "execute_result",
          "data": {
            "text/plain": [
              "EncoderDecoder(\n",
              "  (encoder): Encoder(\n",
              "    (Linear1): Linear(in_features=2, out_features=5, bias=True)\n",
              "    (ReLU): PReLU(num_parameters=1)\n",
              "    (Linear2): Linear(in_features=5, out_features=2, bias=True)\n",
              "  )\n",
              "  (decoder): Decoder(\n",
              "    (Linear1): Linear(in_features=3, out_features=5, bias=True)\n",
              "    (ReLU): PReLU(num_parameters=1)\n",
              "    (Linear2): Linear(in_features=5, out_features=1, bias=True)\n",
              "  )\n",
              ")"
            ]
          },
          "metadata": {
            "tags": []
          },
          "execution_count": 40
        }
      ]
    },
    {
      "cell_type": "markdown",
      "metadata": {
        "id": "ZnGPFL0D1VhE"
      },
      "source": [
        "# Optimizer and Loss"
      ]
    },
    {
      "cell_type": "code",
      "metadata": {
        "id": "Jc9cQHkW1UGb"
      },
      "source": [
        "loss = nn.MSELoss()\r\n",
        "lr, wd = 0.001, 0.0005\r\n",
        "\r\n",
        "optim = torch.optim.Adam(net.parameters(), lr=lr, weight_decay=wd)"
      ],
      "execution_count": 43,
      "outputs": []
    },
    {
      "cell_type": "markdown",
      "metadata": {
        "id": "Pht036Is2y_x"
      },
      "source": [
        "# Training"
      ]
    },
    {
      "cell_type": "code",
      "metadata": {
        "id": "HP4zG6rC7vop"
      },
      "source": [
        "def get_context_pairs(X, y):\r\n",
        "  # generate random Nc between 2 and 40/Npts\r\n",
        "  Nc = int(torch.randint(2, Npts, (1,)))\r\n",
        "\r\n",
        "  # take random Nc subset from the current element\r\n",
        "  # without replacement\r\n",
        "  random_subset_indices = torch.randperm(Npts)[:Nc]\r\n",
        "\r\n",
        "  Xc = X[:,random_subset_indices]\r\n",
        "  Yc = y[:,random_subset_indices]\r\n",
        "\r\n",
        "  # create the context pairs from the random subset indices \r\n",
        "  context_pairs = torch.stack([Xc, Yc], axis=2).squeeze(3)\r\n",
        "\r\n",
        "  return context_pairs"
      ],
      "execution_count": 42,
      "outputs": []
    },
    {
      "cell_type": "code",
      "metadata": {
        "id": "L_xubP6a8hLt"
      },
      "source": [
        "def accuracy(y_hat, y):\r\n",
        "  if len(y_hat.shape) > 1 and y_hat.shape[1] > 1:\r\n",
        "    y_hat = y_hat.argmax(axis=1)\r\n",
        "  \r\n",
        "  cmp = (y_hat.type(y.dtype) == y)\r\n",
        "\r\n",
        "  return float(torch.sum(cmp))\r\n",
        "\r\n",
        "class Accumulator: \r\n",
        "    \"\"\"For accumulating sums over `n` variables.\"\"\"\r\n",
        "    def __init__(self, n):\r\n",
        "        self.data = [0.0] * n\r\n",
        "\r\n",
        "    def add(self, *args):\r\n",
        "        self.data = [a + float(b) for a, b in zip(self.data, args)]\r\n",
        "\r\n",
        "    def reset(self):\r\n",
        "        self.data = [0.0] * len(self.data)\r\n",
        "\r\n",
        "    def __getitem__(self, idx):\r\n",
        "        return self.data[idx]\r\n",
        "\r\n"
      ],
      "execution_count": 9,
      "outputs": []
    },
    {
      "cell_type": "code",
      "metadata": {
        "id": "1h5Kxzg5pjn1",
        "colab": {
          "base_uri": "https://localhost:8080/",
          "height": 283
        },
        "outputId": "b9992355-4114-4eab-c9f3-88cf4456d837"
      },
      "source": [
        "num_epochs = 200\r\n",
        "\r\n",
        "train_loss = {}\r\n",
        "\r\n",
        "for epoch in range(num_epochs):\r\n",
        "\r\n",
        "  # Sum of training loss, sum of training accuracy, no. of examples\r\n",
        "  metric = Accumulator(3)\r\n",
        "\r\n",
        "  # netEncoder.train()\r\n",
        "  # netDecoder.train()\r\n",
        "\r\n",
        "  for X, y in data_iter: \r\n",
        "    context_pairs = get_context_pairs(X, y) # returns random number of context pairs (Xc, Yc)\r\n",
        "\r\n",
        "    y_hat = net(context_pairs)\r\n",
        "\r\n",
        "    l = loss(y_hat, y)\r\n",
        "\r\n",
        "    optim.zero_grad()\r\n",
        "    l.backward()\r\n",
        "    optim.step()\r\n",
        "\r\n",
        "    \r\n",
        "    metric.add(float(l) * len(y), 0, y.size().numel())\r\n",
        "\r\n",
        "  # print(f\"epoch {epoch}, loss: {metric[0]/metric[2]}, accuracy: {metric[1]/metric[2]}\")\r\n",
        "  train_loss[epoch] = metric[0]/metric[2]\r\n",
        "\r\n",
        "plt.plot(list(train_loss.keys()), list(train_loss.values()))"
      ],
      "execution_count": 45,
      "outputs": [
        {
          "output_type": "execute_result",
          "data": {
            "text/plain": [
              "[<matplotlib.lines.Line2D at 0x7effa1182f50>]"
            ]
          },
          "metadata": {
            "tags": []
          },
          "execution_count": 45
        },
        {
          "output_type": "display_data",
          "data": {
            "image/png": "[encoded data removed]",
            "text/plain": [
              "<Figure size 432x288 with 1 Axes>"
            ]
          },
          "metadata": {
            "tags": [],
            "needs_background": "light"
          }
        }
      ]
    },
    {
      "cell_type": "code",
      "metadata": {
        "colab": {
          "base_uri": "https://localhost:8080/"
        },
        "id": "MZCIiP-0F3uh",
        "outputId": "1be715ed-f5bc-4d0a-a8d2-9abc026c0672"
      },
      "source": [
        "X = torch.rand(5, 2, 1)\r\n",
        "rC = torch.rand(5,2)\r\n",
        "\r\n",
        "print(f\"X: {X}\")\r\n",
        "print(f\"rC: {rC}\")\r\n",
        "\r\n",
        "rC = rC.unsqueeze(1).repeat(1,2,1)\r\n",
        "\r\n",
        "Xt = torch.cat([rC, X], dim=2)\r\n",
        "\r\n",
        "Xt, Xt.shape"
      ],
      "execution_count": null,
      "outputs": [
        {
          "output_type": "stream",
          "text": [
            "X: tensor([[[0.8290],\n",
            "         [0.3607]],\n",
            "\n",
            "        [[0.5578],\n",
            "         [0.2635]],\n",
            "\n",
            "        [[0.3204],\n",
            "         [0.3156]],\n",
            "\n",
            "        [[0.6359],\n",
            "         [0.6502]],\n",
            "\n",
            "        [[0.0303],\n",
            "         [0.6585]]])\n",
            "rC: tensor([[0.5764, 0.7551],\n",
            "        [0.0796, 0.1653],\n",
            "        [0.9113, 0.8752],\n",
            "        [0.4112, 0.8765],\n",
            "        [0.5546, 0.5428]])\n"
          ],
          "name": "stdout"
        },
        {
          "output_type": "execute_result",
          "data": {
            "text/plain": [
              "(tensor([[[0.5764, 0.7551, 0.8290],\n",
              "          [0.5764, 0.7551, 0.3607]],\n",
              " \n",
              "         [[0.0796, 0.1653, 0.5578],\n",
              "          [0.0796, 0.1653, 0.2635]],\n",
              " \n",
              "         [[0.9113, 0.8752, 0.3204],\n",
              "          [0.9113, 0.8752, 0.3156]],\n",
              " \n",
              "         [[0.4112, 0.8765, 0.6359],\n",
              "          [0.4112, 0.8765, 0.6502]],\n",
              " \n",
              "         [[0.5546, 0.5428, 0.0303],\n",
              "          [0.5546, 0.5428, 0.6585]]]), torch.Size([5, 2, 3]))"
            ]
          },
          "metadata": {
            "tags": []
          },
          "execution_count": 203
        }
      ]
    },
    {
      "cell_type": "code",
      "metadata": {
        "colab": {
          "base_uri": "https://localhost:8080/"
        },
        "id": "31FlJdlGYkll",
        "outputId": "84ca2dbd-cc18-4a05-df1d-5515c760cbce"
      },
      "source": [
        "x = torch.tensor([1, 2])\r\n",
        "print(x)\r\n",
        "x = x.repeat(4, 40)\r\n",
        "print(x)"
      ],
      "execution_count": null,
      "outputs": [
        {
          "output_type": "stream",
          "text": [
            "tensor([1, 2])\n",
            "tensor([[1, 2, 1, 2, 1, 2, 1, 2, 1, 2, 1, 2, 1, 2, 1, 2, 1, 2, 1, 2, 1, 2, 1, 2,\n",
            "         1, 2, 1, 2, 1, 2, 1, 2, 1, 2, 1, 2, 1, 2, 1, 2, 1, 2, 1, 2, 1, 2, 1, 2,\n",
            "         1, 2, 1, 2, 1, 2, 1, 2, 1, 2, 1, 2, 1, 2, 1, 2, 1, 2, 1, 2, 1, 2, 1, 2,\n",
            "         1, 2, 1, 2, 1, 2, 1, 2],\n",
            "        [1, 2, 1, 2, 1, 2, 1, 2, 1, 2, 1, 2, 1, 2, 1, 2, 1, 2, 1, 2, 1, 2, 1, 2,\n",
            "         1, 2, 1, 2, 1, 2, 1, 2, 1, 2, 1, 2, 1, 2, 1, 2, 1, 2, 1, 2, 1, 2, 1, 2,\n",
            "         1, 2, 1, 2, 1, 2, 1, 2, 1, 2, 1, 2, 1, 2, 1, 2, 1, 2, 1, 2, 1, 2, 1, 2,\n",
            "         1, 2, 1, 2, 1, 2, 1, 2],\n",
            "        [1, 2, 1, 2, 1, 2, 1, 2, 1, 2, 1, 2, 1, 2, 1, 2, 1, 2, 1, 2, 1, 2, 1, 2,\n",
            "         1, 2, 1, 2, 1, 2, 1, 2, 1, 2, 1, 2, 1, 2, 1, 2, 1, 2, 1, 2, 1, 2, 1, 2,\n",
            "         1, 2, 1, 2, 1, 2, 1, 2, 1, 2, 1, 2, 1, 2, 1, 2, 1, 2, 1, 2, 1, 2, 1, 2,\n",
            "         1, 2, 1, 2, 1, 2, 1, 2],\n",
            "        [1, 2, 1, 2, 1, 2, 1, 2, 1, 2, 1, 2, 1, 2, 1, 2, 1, 2, 1, 2, 1, 2, 1, 2,\n",
            "         1, 2, 1, 2, 1, 2, 1, 2, 1, 2, 1, 2, 1, 2, 1, 2, 1, 2, 1, 2, 1, 2, 1, 2,\n",
            "         1, 2, 1, 2, 1, 2, 1, 2, 1, 2, 1, 2, 1, 2, 1, 2, 1, 2, 1, 2, 1, 2, 1, 2,\n",
            "         1, 2, 1, 2, 1, 2, 1, 2]])\n"
          ],
          "name": "stdout"
        }
      ]
    }
  ]
}